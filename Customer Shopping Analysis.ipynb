{
 "cells": [
  {
   "cell_type": "markdown",
   "id": "df9dc9d7",
   "metadata": {},
   "source": [
    "# Customer Shopping Analysis\n",
    "This is an EDA on data gotten from kaggle. The dataset can be downloaded from [here](https://www.kaggle.com/datasets/mehmettahiraslan/customer-shopping-dataset).\n",
    "### Context\n",
    "Welcome to the shopping world of Istanbul! Our dataset contains shopping information from 10 different shopping malls between 2021 and 2023. We have gathered data from various age groups and genders to provide a comprehensive view of shopping habits in Istanbul. The dataset includes essential information such as invoice numbers, customer IDs, age, gender, payment methods, product categories, quantity, price, order dates, and shopping mall locations. We hope that this dataset will serve as a valuable resource for researchers, data analysts, and machine learning enthusiasts who want to gain insights into shopping trends and patterns in Istanbul. Explore the dataset and discover the fascinating world of Istanbul shopping!\n",
    "\n",
    "Content\n",
    "Attribute Information:\n",
    "\n",
    "invoice_no: Invoice number. Nominal. A combination of the letter 'I' and a 6-digit integer uniquely assigned to each operation.\n",
    "customer_id: Customer number. Nominal. A combination of the letter 'C' and a 6-digit integer uniquely assigned to each operation.\n",
    "gender: String variable of the customer's gender.\n",
    "age: Positive Integer variable of the customers age.\n",
    "category: String variable of the category of the purchased product.\n",
    "quantity: The quantities of each product (item) per transaction. Numeric.\n",
    "price: Unit price. Numeric. Product price per unit in Turkish Liras (TL).\n",
    "payment_method: String variable of the payment method (cash, credit card or debit card) used for the transaction.\n",
    "invoice_date: Invoice date. The day when a transaction was generated.\n",
    "shopping_mall: String variable of the name of the shopping mall where the transaction was made.\n",
    "\n",
    "## Data Inspection and Cleaning\n"
   ]
  },
  {
   "cell_type": "code",
   "execution_count": null,
   "id": "8c05a19a",
   "metadata": {},
   "outputs": [],
   "source": []
  }
 ],
 "metadata": {
  "hide_input": false,
  "kernelspec": {
   "display_name": "Python 3 (ipykernel)",
   "language": "python",
   "name": "python3"
  },
  "language_info": {
   "codemirror_mode": {
    "name": "ipython",
    "version": 3
   },
   "file_extension": ".py",
   "mimetype": "text/x-python",
   "name": "python",
   "nbconvert_exporter": "python",
   "pygments_lexer": "ipython3",
   "version": "3.9.15"
  },
  "toc": {
   "base_numbering": 1,
   "nav_menu": {},
   "number_sections": true,
   "sideBar": true,
   "skip_h1_title": false,
   "title_cell": "Table of Contents",
   "title_sidebar": "Contents",
   "toc_cell": false,
   "toc_position": {},
   "toc_section_display": true,
   "toc_window_display": false
  }
 },
 "nbformat": 4,
 "nbformat_minor": 5
}
